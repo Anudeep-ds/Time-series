{
 "cells": [
  {
   "cell_type": "code",
   "execution_count": 5,
   "metadata": {},
   "outputs": [
    {
     "name": "stdout",
     "output_type": "stream",
     "text": [
      "Requirement already satisfied: pandas-datareader in c:\\users\\v-anudeept\\anaconda3\\lib\\site-packages (0.10.0)\n",
      "Requirement already satisfied: requests>=2.19.0 in c:\\users\\v-anudeept\\anaconda3\\lib\\site-packages (from pandas-datareader) (2.28.1)\n",
      "Requirement already satisfied: lxml in c:\\users\\v-anudeept\\anaconda3\\lib\\site-packages (from pandas-datareader) (4.9.1)\n",
      "Requirement already satisfied: pandas>=0.23 in c:\\users\\v-anudeept\\anaconda3\\lib\\site-packages (from pandas-datareader) (1.4.4)\n",
      "Requirement already satisfied: pytz>=2020.1 in c:\\users\\v-anudeept\\anaconda3\\lib\\site-packages (from pandas>=0.23->pandas-datareader) (2022.1)\n",
      "Requirement already satisfied: numpy>=1.18.5 in c:\\users\\v-anudeept\\anaconda3\\lib\\site-packages (from pandas>=0.23->pandas-datareader) (1.21.5)\n",
      "Requirement already satisfied: python-dateutil>=2.8.1 in c:\\users\\v-anudeept\\anaconda3\\lib\\site-packages (from pandas>=0.23->pandas-datareader) (2.8.2)\n",
      "Requirement already satisfied: charset-normalizer<3,>=2 in c:\\users\\v-anudeept\\anaconda3\\lib\\site-packages (from requests>=2.19.0->pandas-datareader) (2.0.4)\n",
      "Requirement already satisfied: certifi>=2017.4.17 in c:\\users\\v-anudeept\\anaconda3\\lib\\site-packages (from requests>=2.19.0->pandas-datareader) (2022.9.14)\n",
      "Requirement already satisfied: idna<4,>=2.5 in c:\\users\\v-anudeept\\anaconda3\\lib\\site-packages (from requests>=2.19.0->pandas-datareader) (3.3)\n",
      "Requirement already satisfied: urllib3<1.27,>=1.21.1 in c:\\users\\v-anudeept\\anaconda3\\lib\\site-packages (from requests>=2.19.0->pandas-datareader) (1.26.11)\n",
      "Requirement already satisfied: six>=1.5 in c:\\users\\v-anudeept\\anaconda3\\lib\\site-packages (from python-dateutil>=2.8.1->pandas>=0.23->pandas-datareader) (1.16.0)\n"
     ]
    }
   ],
   "source": [
    "## Install pandas data reader\n",
    "!pip install pandas-datareader"
   ]
  },
  {
   "cell_type": "code",
   "execution_count": 6,
   "metadata": {},
   "outputs": [
    {
     "name": "stdout",
     "output_type": "stream",
     "text": [
      "Requirement already satisfied: pandas in c:\\users\\v-anudeept\\anaconda3\\lib\\site-packages (1.4.4)\n",
      "Collecting pandas\n",
      "  Using cached pandas-1.5.3-cp39-cp39-win_amd64.whl (10.9 MB)\n",
      "Requirement already satisfied: pytz>=2020.1 in c:\\users\\v-anudeept\\anaconda3\\lib\\site-packages (from pandas) (2022.1)\n",
      "Requirement already satisfied: python-dateutil>=2.8.1 in c:\\users\\v-anudeept\\anaconda3\\lib\\site-packages (from pandas) (2.8.2)\n",
      "Requirement already satisfied: numpy>=1.20.3 in c:\\users\\v-anudeept\\anaconda3\\lib\\site-packages (from pandas) (1.21.5)\n",
      "Requirement already satisfied: six>=1.5 in c:\\users\\v-anudeept\\anaconda3\\lib\\site-packages (from python-dateutil>=2.8.1->pandas) (1.16.0)\n",
      "Installing collected packages: pandas\n",
      "  Attempting uninstall: pandas\n",
      "    Found existing installation: pandas 1.4.4\n",
      "    Uninstalling pandas-1.4.4:\n",
      "      Successfully uninstalled pandas-1.4.4\n",
      "Successfully installed pandas-1.5.3\n",
      "Requirement already satisfied: pandas-datareader in c:\\users\\v-anudeept\\anaconda3\\lib\\site-packages (0.10.0)\n",
      "Requirement already satisfied: lxml in c:\\users\\v-anudeept\\anaconda3\\lib\\site-packages (from pandas-datareader) (4.9.1)\n",
      "Requirement already satisfied: pandas>=0.23 in c:\\users\\v-anudeept\\anaconda3\\lib\\site-packages (from pandas-datareader) (1.5.3)\n",
      "Requirement already satisfied: requests>=2.19.0 in c:\\users\\v-anudeept\\anaconda3\\lib\\site-packages (from pandas-datareader) (2.28.1)\n",
      "Requirement already satisfied: numpy>=1.20.3 in c:\\users\\v-anudeept\\anaconda3\\lib\\site-packages (from pandas>=0.23->pandas-datareader) (1.21.5)\n",
      "Requirement already satisfied: python-dateutil>=2.8.1 in c:\\users\\v-anudeept\\anaconda3\\lib\\site-packages (from pandas>=0.23->pandas-datareader) (2.8.2)\n",
      "Requirement already satisfied: pytz>=2020.1 in c:\\users\\v-anudeept\\anaconda3\\lib\\site-packages (from pandas>=0.23->pandas-datareader) (2022.1)\n",
      "Requirement already satisfied: certifi>=2017.4.17 in c:\\users\\v-anudeept\\anaconda3\\lib\\site-packages (from requests>=2.19.0->pandas-datareader) (2022.9.14)\n",
      "Requirement already satisfied: idna<4,>=2.5 in c:\\users\\v-anudeept\\anaconda3\\lib\\site-packages (from requests>=2.19.0->pandas-datareader) (3.3)\n",
      "Requirement already satisfied: charset-normalizer<3,>=2 in c:\\users\\v-anudeept\\anaconda3\\lib\\site-packages (from requests>=2.19.0->pandas-datareader) (2.0.4)\n",
      "Requirement already satisfied: urllib3<1.27,>=1.21.1 in c:\\users\\v-anudeept\\anaconda3\\lib\\site-packages (from requests>=2.19.0->pandas-datareader) (1.26.11)\n",
      "Requirement already satisfied: six>=1.5 in c:\\users\\v-anudeept\\anaconda3\\lib\\site-packages (from python-dateutil>=2.8.1->pandas>=0.23->pandas-datareader) (1.16.0)\n",
      "Collecting yfinance\n",
      "  Using cached yfinance-0.2.12-py2.py3-none-any.whl (59 kB)\n",
      "Requirement already satisfied: pandas>=1.3.0 in c:\\users\\v-anudeept\\anaconda3\\lib\\site-packages (from yfinance) (1.5.3)\n",
      "Requirement already satisfied: requests>=2.26 in c:\\users\\v-anudeept\\anaconda3\\lib\\site-packages (from yfinance) (2.28.1)\n",
      "Requirement already satisfied: beautifulsoup4>=4.11.1 in c:\\users\\v-anudeept\\anaconda3\\lib\\site-packages (from yfinance) (4.11.1)\n",
      "Collecting html5lib>=1.1\n",
      "  Using cached html5lib-1.1-py2.py3-none-any.whl (112 kB)\n",
      "Collecting frozendict>=2.3.4\n",
      "  Using cached frozendict-2.3.5-cp39-cp39-win_amd64.whl (35 kB)\n",
      "Requirement already satisfied: numpy>=1.16.5 in c:\\users\\v-anudeept\\anaconda3\\lib\\site-packages (from yfinance) (1.21.5)\n",
      "Requirement already satisfied: lxml>=4.9.1 in c:\\users\\v-anudeept\\anaconda3\\lib\\site-packages (from yfinance) (4.9.1)\n",
      "Collecting multitasking>=0.0.7\n",
      "  Using cached multitasking-0.0.11-py3-none-any.whl (8.5 kB)\n",
      "Requirement already satisfied: appdirs>=1.4.4 in c:\\users\\v-anudeept\\anaconda3\\lib\\site-packages (from yfinance) (1.4.4)\n",
      "Collecting pytz>=2022.5\n",
      "  Using cached pytz-2022.7.1-py2.py3-none-any.whl (499 kB)\n",
      "Requirement already satisfied: cryptography>=3.3.2 in c:\\users\\v-anudeept\\anaconda3\\lib\\site-packages (from yfinance) (37.0.1)\n",
      "Requirement already satisfied: soupsieve>1.2 in c:\\users\\v-anudeept\\anaconda3\\lib\\site-packages (from beautifulsoup4>=4.11.1->yfinance) (2.3.1)\n",
      "Requirement already satisfied: cffi>=1.12 in c:\\users\\v-anudeept\\anaconda3\\lib\\site-packages (from cryptography>=3.3.2->yfinance) (1.15.1)\n",
      "Requirement already satisfied: webencodings in c:\\users\\v-anudeept\\anaconda3\\lib\\site-packages (from html5lib>=1.1->yfinance) (0.5.1)\n",
      "Requirement already satisfied: six>=1.9 in c:\\users\\v-anudeept\\anaconda3\\lib\\site-packages (from html5lib>=1.1->yfinance) (1.16.0)\n",
      "Requirement already satisfied: python-dateutil>=2.8.1 in c:\\users\\v-anudeept\\anaconda3\\lib\\site-packages (from pandas>=1.3.0->yfinance) (2.8.2)\n",
      "Requirement already satisfied: charset-normalizer<3,>=2 in c:\\users\\v-anudeept\\anaconda3\\lib\\site-packages (from requests>=2.26->yfinance) (2.0.4)\n",
      "Requirement already satisfied: certifi>=2017.4.17 in c:\\users\\v-anudeept\\anaconda3\\lib\\site-packages (from requests>=2.26->yfinance) (2022.9.14)\n",
      "Requirement already satisfied: idna<4,>=2.5 in c:\\users\\v-anudeept\\anaconda3\\lib\\site-packages (from requests>=2.26->yfinance) (3.3)\n",
      "Requirement already satisfied: urllib3<1.27,>=1.21.1 in c:\\users\\v-anudeept\\anaconda3\\lib\\site-packages (from requests>=2.26->yfinance) (1.26.11)\n",
      "Requirement already satisfied: pycparser in c:\\users\\v-anudeept\\anaconda3\\lib\\site-packages (from cffi>=1.12->cryptography>=3.3.2->yfinance) (2.21)\n",
      "Installing collected packages: pytz, multitasking, html5lib, frozendict, yfinance\n",
      "  Attempting uninstall: pytz\n",
      "    Found existing installation: pytz 2022.1\n",
      "    Uninstalling pytz-2022.1:\n",
      "      Successfully uninstalled pytz-2022.1\n",
      "Successfully installed frozendict-2.3.5 html5lib-1.1 multitasking-0.0.11 pytz-2022.7.1 yfinance-0.2.12\n"
     ]
    },
    {
     "name": "stderr",
     "output_type": "stream",
     "text": [
      "ERROR: pip's dependency resolver does not currently take into account all the packages that are installed. This behaviour is the source of the following dependency conflicts.\n",
      "conda-repo-cli 1.0.20 requires clyent==1.2.1, but you have clyent 1.2.2 which is incompatible.\n",
      "conda-repo-cli 1.0.20 requires nbformat==5.4.0, but you have nbformat 5.5.0 which is incompatible.\n"
     ]
    }
   ],
   "source": [
    "!pip install --upgrade pandas\n",
    "!pip install --upgrade pandas-datareader\n",
    "!pip install yfinance"
   ]
  },
  {
   "cell_type": "code",
   "execution_count": 4,
   "metadata": {},
   "outputs": [
    {
     "ename": "ModuleNotFoundError",
     "evalue": "No module named 'yfinance'",
     "output_type": "error",
     "traceback": [
      "\u001b[1;31m---------------------------------------------------------------------------\u001b[0m",
      "\u001b[1;31mModuleNotFoundError\u001b[0m                       Traceback (most recent call last)",
      "\u001b[1;32m~\\AppData\\Local\\Temp\\ipykernel_22588\\2922467330.py\u001b[0m in \u001b[0;36m<module>\u001b[1;34m\u001b[0m\n\u001b[0;32m      3\u001b[0m \u001b[1;32mfrom\u001b[0m \u001b[0mdatetime\u001b[0m \u001b[1;32mimport\u001b[0m \u001b[0mdatetime\u001b[0m\u001b[1;33m\u001b[0m\u001b[1;33m\u001b[0m\u001b[0m\n\u001b[0;32m      4\u001b[0m \u001b[1;32mimport\u001b[0m \u001b[0msys\u001b[0m\u001b[1;33m\u001b[0m\u001b[1;33m\u001b[0m\u001b[0m\n\u001b[1;32m----> 5\u001b[1;33m \u001b[1;32mimport\u001b[0m \u001b[0myfinance\u001b[0m \u001b[1;32mas\u001b[0m \u001b[0myf\u001b[0m\u001b[1;33m\u001b[0m\u001b[1;33m\u001b[0m\u001b[0m\n\u001b[0m",
      "\u001b[1;31mModuleNotFoundError\u001b[0m: No module named 'yfinance'"
     ]
    }
   ],
   "source": [
    "import pandas_datareader as pdr\n",
    "import pandas as pd\n",
    "from datetime import datetime\n",
    "import sys\n",
    "import yfinance as yf"
   ]
  },
  {
   "cell_type": "code",
   "execution_count": 20,
   "metadata": {},
   "outputs": [],
   "source": [
    "yf.pdr_override()"
   ]
  },
  {
   "cell_type": "code",
   "execution_count": 27,
   "metadata": {},
   "outputs": [],
   "source": [
    "TSLA = \"TSLA\" "
   ]
  },
  {
   "cell_type": "code",
   "execution_count": null,
   "metadata": {},
   "outputs": [],
   "source": [
    "\n",
    "data = yf.get_data_yahoo('TSLA')\n",
    "\n",
    "print(data)"
   ]
  },
  {
   "cell_type": "code",
   "execution_count": null,
   "metadata": {},
   "outputs": [],
   "source": [
    "y_symbols = ['TSLA']\n",
    "from datetime import datetime\n",
    "startdate = datetime(2022,12,1)\n",
    "enddate = datetime(2022,12,15)\n",
    "data = pdr.get_data_yahoo(symbols = y_symbols, start=startdate, end=enddate)"
   ]
  },
  {
   "cell_type": "code",
   "execution_count": 20,
   "metadata": {},
   "outputs": [],
   "source": [
    "df_tesla = pd.read_csv('data/TSLA.csv')"
   ]
  },
  {
   "cell_type": "code",
   "execution_count": 21,
   "metadata": {},
   "outputs": [
    {
     "data": {
      "text/html": [
       "<div>\n",
       "<style scoped>\n",
       "    .dataframe tbody tr th:only-of-type {\n",
       "        vertical-align: middle;\n",
       "    }\n",
       "\n",
       "    .dataframe tbody tr th {\n",
       "        vertical-align: top;\n",
       "    }\n",
       "\n",
       "    .dataframe thead th {\n",
       "        text-align: right;\n",
       "    }\n",
       "</style>\n",
       "<table border=\"1\" class=\"dataframe\">\n",
       "  <thead>\n",
       "    <tr style=\"text-align: right;\">\n",
       "      <th></th>\n",
       "      <th>Date</th>\n",
       "      <th>Open</th>\n",
       "      <th>High</th>\n",
       "      <th>Low</th>\n",
       "      <th>Close</th>\n",
       "      <th>Adj Close</th>\n",
       "      <th>Volume</th>\n",
       "    </tr>\n",
       "  </thead>\n",
       "  <tbody>\n",
       "    <tr>\n",
       "      <th>2838</th>\n",
       "      <td>2021-10-08</td>\n",
       "      <td>796.210022</td>\n",
       "      <td>796.380005</td>\n",
       "      <td>780.909973</td>\n",
       "      <td>785.489990</td>\n",
       "      <td>785.489990</td>\n",
       "      <td>16711100</td>\n",
       "    </tr>\n",
       "    <tr>\n",
       "      <th>2839</th>\n",
       "      <td>2021-10-11</td>\n",
       "      <td>787.650024</td>\n",
       "      <td>801.239990</td>\n",
       "      <td>785.500000</td>\n",
       "      <td>791.940002</td>\n",
       "      <td>791.940002</td>\n",
       "      <td>14200300</td>\n",
       "    </tr>\n",
       "    <tr>\n",
       "      <th>2840</th>\n",
       "      <td>2021-10-12</td>\n",
       "      <td>800.929993</td>\n",
       "      <td>812.320007</td>\n",
       "      <td>796.570007</td>\n",
       "      <td>805.719971</td>\n",
       "      <td>805.719971</td>\n",
       "      <td>22020000</td>\n",
       "    </tr>\n",
       "    <tr>\n",
       "      <th>2841</th>\n",
       "      <td>2021-10-13</td>\n",
       "      <td>810.469971</td>\n",
       "      <td>815.409973</td>\n",
       "      <td>805.780029</td>\n",
       "      <td>811.080017</td>\n",
       "      <td>811.080017</td>\n",
       "      <td>14120100</td>\n",
       "    </tr>\n",
       "    <tr>\n",
       "      <th>2842</th>\n",
       "      <td>2021-10-14</td>\n",
       "      <td>815.489990</td>\n",
       "      <td>820.250000</td>\n",
       "      <td>813.349976</td>\n",
       "      <td>818.320007</td>\n",
       "      <td>818.320007</td>\n",
       "      <td>12203200</td>\n",
       "    </tr>\n",
       "  </tbody>\n",
       "</table>\n",
       "</div>"
      ],
      "text/plain": [
       "            Date        Open        High         Low       Close   Adj Close  \\\n",
       "2838  2021-10-08  796.210022  796.380005  780.909973  785.489990  785.489990   \n",
       "2839  2021-10-11  787.650024  801.239990  785.500000  791.940002  791.940002   \n",
       "2840  2021-10-12  800.929993  812.320007  796.570007  805.719971  805.719971   \n",
       "2841  2021-10-13  810.469971  815.409973  805.780029  811.080017  811.080017   \n",
       "2842  2021-10-14  815.489990  820.250000  813.349976  818.320007  818.320007   \n",
       "\n",
       "        Volume  \n",
       "2838  16711100  \n",
       "2839  14200300  \n",
       "2840  22020000  \n",
       "2841  14120100  \n",
       "2842  12203200  "
      ]
     },
     "execution_count": 21,
     "metadata": {},
     "output_type": "execute_result"
    }
   ],
   "source": [
    "df_tesla.tail()"
   ]
  },
  {
   "cell_type": "code",
   "execution_count": 35,
   "metadata": {},
   "outputs": [
    {
     "data": {
      "text/html": [
       "<div>\n",
       "<style scoped>\n",
       "    .dataframe tbody tr th:only-of-type {\n",
       "        vertical-align: middle;\n",
       "    }\n",
       "\n",
       "    .dataframe tbody tr th {\n",
       "        vertical-align: top;\n",
       "    }\n",
       "\n",
       "    .dataframe thead th {\n",
       "        text-align: right;\n",
       "    }\n",
       "</style>\n",
       "<table border=\"1\" class=\"dataframe\">\n",
       "  <thead>\n",
       "    <tr style=\"text-align: right;\">\n",
       "      <th></th>\n",
       "      <th>Date</th>\n",
       "      <th>Open</th>\n",
       "      <th>High</th>\n",
       "      <th>Low</th>\n",
       "      <th>Close</th>\n",
       "      <th>Adj Close</th>\n",
       "      <th>Volume</th>\n",
       "    </tr>\n",
       "  </thead>\n",
       "  <tbody>\n",
       "    <tr>\n",
       "      <th>2838</th>\n",
       "      <td>2021-10-08</td>\n",
       "      <td>796.210022</td>\n",
       "      <td>796.380005</td>\n",
       "      <td>780.909973</td>\n",
       "      <td>785.489990</td>\n",
       "      <td>785.489990</td>\n",
       "      <td>16711100</td>\n",
       "    </tr>\n",
       "    <tr>\n",
       "      <th>2839</th>\n",
       "      <td>2021-10-11</td>\n",
       "      <td>787.650024</td>\n",
       "      <td>801.239990</td>\n",
       "      <td>785.500000</td>\n",
       "      <td>791.940002</td>\n",
       "      <td>791.940002</td>\n",
       "      <td>14200300</td>\n",
       "    </tr>\n",
       "    <tr>\n",
       "      <th>2840</th>\n",
       "      <td>2021-10-12</td>\n",
       "      <td>800.929993</td>\n",
       "      <td>812.320007</td>\n",
       "      <td>796.570007</td>\n",
       "      <td>805.719971</td>\n",
       "      <td>805.719971</td>\n",
       "      <td>22020000</td>\n",
       "    </tr>\n",
       "    <tr>\n",
       "      <th>2841</th>\n",
       "      <td>2021-10-13</td>\n",
       "      <td>810.469971</td>\n",
       "      <td>815.409973</td>\n",
       "      <td>805.780029</td>\n",
       "      <td>811.080017</td>\n",
       "      <td>811.080017</td>\n",
       "      <td>14120100</td>\n",
       "    </tr>\n",
       "    <tr>\n",
       "      <th>2842</th>\n",
       "      <td>2021-10-14</td>\n",
       "      <td>815.489990</td>\n",
       "      <td>820.250000</td>\n",
       "      <td>813.349976</td>\n",
       "      <td>818.320007</td>\n",
       "      <td>818.320007</td>\n",
       "      <td>12203200</td>\n",
       "    </tr>\n",
       "  </tbody>\n",
       "</table>\n",
       "</div>"
      ],
      "text/plain": [
       "            Date        Open        High         Low       Close   Adj Close  \\\n",
       "2838  2021-10-08  796.210022  796.380005  780.909973  785.489990  785.489990   \n",
       "2839  2021-10-11  787.650024  801.239990  785.500000  791.940002  791.940002   \n",
       "2840  2021-10-12  800.929993  812.320007  796.570007  805.719971  805.719971   \n",
       "2841  2021-10-13  810.469971  815.409973  805.780029  811.080017  811.080017   \n",
       "2842  2021-10-14  815.489990  820.250000  813.349976  818.320007  818.320007   \n",
       "\n",
       "        Volume  \n",
       "2838  16711100  \n",
       "2839  14200300  \n",
       "2840  22020000  \n",
       "2841  14120100  \n",
       "2842  12203200  "
      ]
     },
     "execution_count": 35,
     "metadata": {},
     "output_type": "execute_result"
    }
   ],
   "source": [
    "df_tesla.tail()"
   ]
  },
  {
   "cell_type": "code",
   "execution_count": 33,
   "metadata": {},
   "outputs": [
    {
     "data": {
      "text/html": [
       "<div>\n",
       "<style scoped>\n",
       "    .dataframe tbody tr th:only-of-type {\n",
       "        vertical-align: middle;\n",
       "    }\n",
       "\n",
       "    .dataframe tbody tr th {\n",
       "        vertical-align: top;\n",
       "    }\n",
       "\n",
       "    .dataframe thead th {\n",
       "        text-align: right;\n",
       "    }\n",
       "</style>\n",
       "<table border=\"1\" class=\"dataframe\">\n",
       "  <thead>\n",
       "    <tr style=\"text-align: right;\">\n",
       "      <th></th>\n",
       "      <th>Open</th>\n",
       "      <th>High</th>\n",
       "      <th>Low</th>\n",
       "      <th>Close</th>\n",
       "      <th>Adj Close</th>\n",
       "      <th>Volume</th>\n",
       "    </tr>\n",
       "  </thead>\n",
       "  <tbody>\n",
       "    <tr>\n",
       "      <th>count</th>\n",
       "      <td>2843.000000</td>\n",
       "      <td>2843.000000</td>\n",
       "      <td>2843.000000</td>\n",
       "      <td>2843.000000</td>\n",
       "      <td>2843.000000</td>\n",
       "      <td>2.843000e+03</td>\n",
       "    </tr>\n",
       "    <tr>\n",
       "      <th>mean</th>\n",
       "      <td>105.868475</td>\n",
       "      <td>108.031370</td>\n",
       "      <td>103.555733</td>\n",
       "      <td>105.924597</td>\n",
       "      <td>105.924597</td>\n",
       "      <td>3.141524e+07</td>\n",
       "    </tr>\n",
       "    <tr>\n",
       "      <th>std</th>\n",
       "      <td>188.738974</td>\n",
       "      <td>192.483055</td>\n",
       "      <td>184.638617</td>\n",
       "      <td>188.836358</td>\n",
       "      <td>188.836358</td>\n",
       "      <td>2.841880e+07</td>\n",
       "    </tr>\n",
       "    <tr>\n",
       "      <th>min</th>\n",
       "      <td>3.228000</td>\n",
       "      <td>3.326000</td>\n",
       "      <td>2.996000</td>\n",
       "      <td>3.160000</td>\n",
       "      <td>3.160000</td>\n",
       "      <td>5.925000e+05</td>\n",
       "    </tr>\n",
       "    <tr>\n",
       "      <th>25%</th>\n",
       "      <td>10.698000</td>\n",
       "      <td>11.026000</td>\n",
       "      <td>10.420000</td>\n",
       "      <td>10.727000</td>\n",
       "      <td>10.727000</td>\n",
       "      <td>1.251050e+07</td>\n",
       "    </tr>\n",
       "    <tr>\n",
       "      <th>50%</th>\n",
       "      <td>45.874001</td>\n",
       "      <td>46.493999</td>\n",
       "      <td>45.102001</td>\n",
       "      <td>45.916000</td>\n",
       "      <td>45.916000</td>\n",
       "      <td>2.481500e+07</td>\n",
       "    </tr>\n",
       "    <tr>\n",
       "      <th>75%</th>\n",
       "      <td>65.021000</td>\n",
       "      <td>66.251999</td>\n",
       "      <td>64.015001</td>\n",
       "      <td>65.275002</td>\n",
       "      <td>65.275002</td>\n",
       "      <td>4.012025e+07</td>\n",
       "    </tr>\n",
       "    <tr>\n",
       "      <th>max</th>\n",
       "      <td>891.380005</td>\n",
       "      <td>900.400024</td>\n",
       "      <td>871.599976</td>\n",
       "      <td>883.090027</td>\n",
       "      <td>883.090027</td>\n",
       "      <td>3.046940e+08</td>\n",
       "    </tr>\n",
       "  </tbody>\n",
       "</table>\n",
       "</div>"
      ],
      "text/plain": [
       "              Open         High          Low        Close    Adj Close  \\\n",
       "count  2843.000000  2843.000000  2843.000000  2843.000000  2843.000000   \n",
       "mean    105.868475   108.031370   103.555733   105.924597   105.924597   \n",
       "std     188.738974   192.483055   184.638617   188.836358   188.836358   \n",
       "min       3.228000     3.326000     2.996000     3.160000     3.160000   \n",
       "25%      10.698000    11.026000    10.420000    10.727000    10.727000   \n",
       "50%      45.874001    46.493999    45.102001    45.916000    45.916000   \n",
       "75%      65.021000    66.251999    64.015001    65.275002    65.275002   \n",
       "max     891.380005   900.400024   871.599976   883.090027   883.090027   \n",
       "\n",
       "             Volume  \n",
       "count  2.843000e+03  \n",
       "mean   3.141524e+07  \n",
       "std    2.841880e+07  \n",
       "min    5.925000e+05  \n",
       "25%    1.251050e+07  \n",
       "50%    2.481500e+07  \n",
       "75%    4.012025e+07  \n",
       "max    3.046940e+08  "
      ]
     },
     "execution_count": 33,
     "metadata": {},
     "output_type": "execute_result"
    }
   ],
   "source": [
    "df_tesla.describe()"
   ]
  },
  {
   "cell_type": "code",
   "execution_count": 31,
   "metadata": {},
   "outputs": [
    {
     "data": {
      "text/plain": [
       "<AxesSubplot: >"
      ]
     },
     "execution_count": 31,
     "metadata": {},
     "output_type": "execute_result"
    },
    {
     "data": {
      "image/png": "[encoded data removed]",
      "text/plain": [
       "<Figure size 1200x400 with 1 Axes>"
      ]
     },
     "metadata": {},
     "output_type": "display_data"
    }
   ],
   "source": [
    "df_tesla['High'].plot(figsize=(12,4))"
   ]
  },
  {
   "cell_type": "code",
   "execution_count": 40,
   "metadata": {},
   "outputs": [
    {
     "data": {
      "text/plain": [
       "<AxesSubplot: >"
      ]
     },
     "execution_count": 40,
     "metadata": {},
     "output_type": "execute_result"
    },
    {
     "data": {
      "image/png": "[encoded data removed]",
      "text/plain": [
       "<Figure size 1200x400 with 1 Axes>"
      ]
     },
     "metadata": {},
     "output_type": "display_data"
    }
   ],
   "source": [
    "df_tesla['High'].plot(xlim=['2020-01-01','2021-09-01'],ylim=[0,800],figsize=(12,4))"
   ]
  }
 ],
 "metadata": {
  "kernelspec": {
   "display_name": "Python 3 (ipykernel)",
   "language": "python",
   "name": "python3"
  },
  "language_info": {
   "codemirror_mode": {
    "name": "ipython",
    "version": 3
   },
   "file_extension": ".py",
   "mimetype": "text/x-python",
   "name": "python",
   "nbconvert_exporter": "python",
   "pygments_lexer": "ipython3",
   "version": "3.9.13"
  }
 },
 "nbformat": 4,
 "nbformat_minor": 2
}
